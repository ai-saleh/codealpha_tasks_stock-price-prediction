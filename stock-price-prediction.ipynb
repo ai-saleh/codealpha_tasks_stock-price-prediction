{
 "cells": [
  {
   "cell_type": "code",
   "execution_count": 12,
   "metadata": {},
   "outputs": [],
   "source": [
    "# dataset @ https://finance.yahoo.com/quote/MSFT/history/"
   ]
  },
  {
   "cell_type": "code",
   "execution_count": 13,
   "metadata": {},
   "outputs": [],
   "source": [
    "# Import libraries\n",
    "import yfinance as yf\n",
    "import pandas as pd\n",
    "import matplotlib.pyplot as plt\n",
    "import numpy as np"
   ]
  },
  {
   "cell_type": "code",
   "execution_count": 14,
   "metadata": {},
   "outputs": [
    {
     "name": "stderr",
     "output_type": "stream",
     "text": [
      "[*********************100%***********************]  1 of 1 completed\n"
     ]
    },
    {
     "data": {
      "text/html": [
       "<div>\n",
       "<style scoped>\n",
       "    .dataframe tbody tr th:only-of-type {\n",
       "        vertical-align: middle;\n",
       "    }\n",
       "\n",
       "    .dataframe tbody tr th {\n",
       "        vertical-align: top;\n",
       "    }\n",
       "\n",
       "    .dataframe thead th {\n",
       "        text-align: right;\n",
       "    }\n",
       "</style>\n",
       "<table border=\"1\" class=\"dataframe\">\n",
       "  <thead>\n",
       "    <tr style=\"text-align: right;\">\n",
       "      <th></th>\n",
       "      <th>Open</th>\n",
       "      <th>High</th>\n",
       "      <th>Low</th>\n",
       "      <th>Close</th>\n",
       "      <th>Adj Close</th>\n",
       "      <th>Volume</th>\n",
       "    </tr>\n",
       "    <tr>\n",
       "      <th>Date</th>\n",
       "      <th></th>\n",
       "      <th></th>\n",
       "      <th></th>\n",
       "      <th></th>\n",
       "      <th></th>\n",
       "      <th></th>\n",
       "    </tr>\n",
       "  </thead>\n",
       "  <tbody>\n",
       "    <tr>\n",
       "      <th>2024-10-07</th>\n",
       "      <td>416.000000</td>\n",
       "      <td>417.109985</td>\n",
       "      <td>409.000000</td>\n",
       "      <td>409.540009</td>\n",
       "      <td>409.540009</td>\n",
       "      <td>20919800</td>\n",
       "    </tr>\n",
       "    <tr>\n",
       "      <th>2024-10-08</th>\n",
       "      <td>410.899994</td>\n",
       "      <td>415.660004</td>\n",
       "      <td>408.170013</td>\n",
       "      <td>414.709991</td>\n",
       "      <td>414.709991</td>\n",
       "      <td>19229300</td>\n",
       "    </tr>\n",
       "    <tr>\n",
       "      <th>2024-10-09</th>\n",
       "      <td>415.859985</td>\n",
       "      <td>420.380005</td>\n",
       "      <td>414.299988</td>\n",
       "      <td>417.459991</td>\n",
       "      <td>417.459991</td>\n",
       "      <td>14974300</td>\n",
       "    </tr>\n",
       "    <tr>\n",
       "      <th>2024-10-10</th>\n",
       "      <td>415.230011</td>\n",
       "      <td>417.350006</td>\n",
       "      <td>413.149994</td>\n",
       "      <td>415.839996</td>\n",
       "      <td>415.839996</td>\n",
       "      <td>13848400</td>\n",
       "    </tr>\n",
       "    <tr>\n",
       "      <th>2024-10-11</th>\n",
       "      <td>416.140015</td>\n",
       "      <td>417.130005</td>\n",
       "      <td>413.250000</td>\n",
       "      <td>416.320007</td>\n",
       "      <td>416.320007</td>\n",
       "      <td>14126600</td>\n",
       "    </tr>\n",
       "  </tbody>\n",
       "</table>\n",
       "</div>"
      ],
      "text/plain": [
       "                  Open        High         Low       Close   Adj Close  \\\n",
       "Date                                                                     \n",
       "2024-10-07  416.000000  417.109985  409.000000  409.540009  409.540009   \n",
       "2024-10-08  410.899994  415.660004  408.170013  414.709991  414.709991   \n",
       "2024-10-09  415.859985  420.380005  414.299988  417.459991  417.459991   \n",
       "2024-10-10  415.230011  417.350006  413.149994  415.839996  415.839996   \n",
       "2024-10-11  416.140015  417.130005  413.250000  416.320007  416.320007   \n",
       "\n",
       "              Volume  \n",
       "Date                  \n",
       "2024-10-07  20919800  \n",
       "2024-10-08  19229300  \n",
       "2024-10-09  14974300  \n",
       "2024-10-10  13848400  \n",
       "2024-10-11  14126600  "
      ]
     },
     "execution_count": 14,
     "metadata": {},
     "output_type": "execute_result"
    }
   ],
   "source": [
    "# Define the ticker symbol for Microsoft\n",
    "ticker_symbol = 'MSFT'\n",
    "\n",
    "# Define the historical date range for data retrieval\n",
    "start_date = '1986-03-13'\n",
    "end_date = '2024-10-14'\n",
    "\n",
    "# Fetch the historical stock data from Yahoo Finance\n",
    "data = yf.download(ticker_symbol, start=start_date, end=end_date)\n",
    "\n",
    "# Reset the DataFrame index and store the original index as a new column\n",
    "# data = data.reset_index()\n",
    "\n",
    "# Display the last few rows of the DataFrame\n",
    "data.tail()\n"
   ]
  },
  {
   "cell_type": "code",
   "execution_count": 15,
   "metadata": {},
   "outputs": [
    {
     "data": {
      "text/plain": [
       "True"
      ]
     },
     "execution_count": 15,
     "metadata": {},
     "output_type": "execute_result"
    }
   ],
   "source": [
    "# Check if the index column 'Date' is in datetime64\n",
    "data.index.inferred_type == \"datetime64\""
   ]
  },
  {
   "cell_type": "markdown",
   "metadata": {},
   "source": [
    "Keep things simple and use univariate forcasting"
   ]
  },
  {
   "cell_type": "code",
   "execution_count": 16,
   "metadata": {},
   "outputs": [
    {
     "data": {
      "text/html": [
       "<div>\n",
       "<style scoped>\n",
       "    .dataframe tbody tr th:only-of-type {\n",
       "        vertical-align: middle;\n",
       "    }\n",
       "\n",
       "    .dataframe tbody tr th {\n",
       "        vertical-align: top;\n",
       "    }\n",
       "\n",
       "    .dataframe thead th {\n",
       "        text-align: right;\n",
       "    }\n",
       "</style>\n",
       "<table border=\"1\" class=\"dataframe\">\n",
       "  <thead>\n",
       "    <tr style=\"text-align: right;\">\n",
       "      <th></th>\n",
       "      <th>Close</th>\n",
       "    </tr>\n",
       "    <tr>\n",
       "      <th>Date</th>\n",
       "      <th></th>\n",
       "    </tr>\n",
       "  </thead>\n",
       "  <tbody>\n",
       "    <tr>\n",
       "      <th>1986-03-13</th>\n",
       "      <td>0.097222</td>\n",
       "    </tr>\n",
       "    <tr>\n",
       "      <th>1986-03-14</th>\n",
       "      <td>0.100694</td>\n",
       "    </tr>\n",
       "    <tr>\n",
       "      <th>1986-03-17</th>\n",
       "      <td>0.102431</td>\n",
       "    </tr>\n",
       "    <tr>\n",
       "      <th>1986-03-18</th>\n",
       "      <td>0.099826</td>\n",
       "    </tr>\n",
       "    <tr>\n",
       "      <th>1986-03-19</th>\n",
       "      <td>0.098090</td>\n",
       "    </tr>\n",
       "  </tbody>\n",
       "</table>\n",
       "</div>"
      ],
      "text/plain": [
       "               Close\n",
       "Date                \n",
       "1986-03-13  0.097222\n",
       "1986-03-14  0.100694\n",
       "1986-03-17  0.102431\n",
       "1986-03-18  0.099826\n",
       "1986-03-19  0.098090"
      ]
     },
     "execution_count": 16,
     "metadata": {},
     "output_type": "execute_result"
    }
   ],
   "source": [
    "# Select only the index 'Date' and 'Close' columns from the DataFrame\n",
    "data = data[['Close']]\n",
    "\n",
    "# Display the first few rows of the simplified DataFrame\n",
    "data.head()\n"
   ]
  },
  {
   "cell_type": "code",
   "execution_count": 17,
   "metadata": {},
   "outputs": [
    {
     "data": {
      "text/plain": [
       "[<matplotlib.lines.Line2D at 0x16a2ab3db80>]"
      ]
     },
     "execution_count": 17,
     "metadata": {},
     "output_type": "execute_result"
    },
    {
     "data": {
      "image/png": "[encoded data removed]",
      "text/plain": [
       "<Figure size 640x480 with 1 Axes>"
      ]
     },
     "metadata": {},
     "output_type": "display_data"
    }
   ],
   "source": [
    "# Plot the data\n",
    "plt.plot(data.index, data['Close'])"
   ]
  },
  {
   "cell_type": "markdown",
   "metadata": {},
   "source": [
    "Convert to a supervised learning problem"
   ]
  },
  {
   "cell_type": "code",
   "execution_count": 18,
   "metadata": {},
   "outputs": [
    {
     "data": {
      "text/html": [
       "<div>\n",
       "<style scoped>\n",
       "    .dataframe tbody tr th:only-of-type {\n",
       "        vertical-align: middle;\n",
       "    }\n",
       "\n",
       "    .dataframe tbody tr th {\n",
       "        vertical-align: top;\n",
       "    }\n",
       "\n",
       "    .dataframe thead th {\n",
       "        text-align: right;\n",
       "    }\n",
       "</style>\n",
       "<table border=\"1\" class=\"dataframe\">\n",
       "  <thead>\n",
       "    <tr style=\"text-align: right;\">\n",
       "      <th></th>\n",
       "      <th>Date</th>\n",
       "      <th>Close-3</th>\n",
       "      <th>Close-2</th>\n",
       "      <th>Close-1</th>\n",
       "      <th>Close</th>\n",
       "    </tr>\n",
       "  </thead>\n",
       "  <tbody>\n",
       "    <tr>\n",
       "      <th>0</th>\n",
       "      <td>1986-03-18</td>\n",
       "      <td>0.097222</td>\n",
       "      <td>0.100694</td>\n",
       "      <td>0.102431</td>\n",
       "      <td>0.099826</td>\n",
       "    </tr>\n",
       "    <tr>\n",
       "      <th>1</th>\n",
       "      <td>1986-03-19</td>\n",
       "      <td>0.100694</td>\n",
       "      <td>0.102431</td>\n",
       "      <td>0.099826</td>\n",
       "      <td>0.098090</td>\n",
       "    </tr>\n",
       "    <tr>\n",
       "      <th>2</th>\n",
       "      <td>1986-03-20</td>\n",
       "      <td>0.102431</td>\n",
       "      <td>0.099826</td>\n",
       "      <td>0.098090</td>\n",
       "      <td>0.095486</td>\n",
       "    </tr>\n",
       "    <tr>\n",
       "      <th>3</th>\n",
       "      <td>1986-03-21</td>\n",
       "      <td>0.099826</td>\n",
       "      <td>0.098090</td>\n",
       "      <td>0.095486</td>\n",
       "      <td>0.092882</td>\n",
       "    </tr>\n",
       "    <tr>\n",
       "      <th>4</th>\n",
       "      <td>1986-03-24</td>\n",
       "      <td>0.098090</td>\n",
       "      <td>0.095486</td>\n",
       "      <td>0.092882</td>\n",
       "      <td>0.090278</td>\n",
       "    </tr>\n",
       "    <tr>\n",
       "      <th>...</th>\n",
       "      <td>...</td>\n",
       "      <td>...</td>\n",
       "      <td>...</td>\n",
       "      <td>...</td>\n",
       "      <td>...</td>\n",
       "    </tr>\n",
       "    <tr>\n",
       "      <th>9716</th>\n",
       "      <td>2024-10-07</td>\n",
       "      <td>417.130005</td>\n",
       "      <td>416.540009</td>\n",
       "      <td>416.059998</td>\n",
       "      <td>409.540009</td>\n",
       "    </tr>\n",
       "    <tr>\n",
       "      <th>9717</th>\n",
       "      <td>2024-10-08</td>\n",
       "      <td>416.540009</td>\n",
       "      <td>416.059998</td>\n",
       "      <td>409.540009</td>\n",
       "      <td>414.709991</td>\n",
       "    </tr>\n",
       "    <tr>\n",
       "      <th>9718</th>\n",
       "      <td>2024-10-09</td>\n",
       "      <td>416.059998</td>\n",
       "      <td>409.540009</td>\n",
       "      <td>414.709991</td>\n",
       "      <td>417.459991</td>\n",
       "    </tr>\n",
       "    <tr>\n",
       "      <th>9719</th>\n",
       "      <td>2024-10-10</td>\n",
       "      <td>409.540009</td>\n",
       "      <td>414.709991</td>\n",
       "      <td>417.459991</td>\n",
       "      <td>415.839996</td>\n",
       "    </tr>\n",
       "    <tr>\n",
       "      <th>9720</th>\n",
       "      <td>2024-10-11</td>\n",
       "      <td>414.709991</td>\n",
       "      <td>417.459991</td>\n",
       "      <td>415.839996</td>\n",
       "      <td>416.320007</td>\n",
       "    </tr>\n",
       "  </tbody>\n",
       "</table>\n",
       "<p>9721 rows × 5 columns</p>\n",
       "</div>"
      ],
      "text/plain": [
       "           Date     Close-3     Close-2     Close-1       Close\n",
       "0    1986-03-18    0.097222    0.100694    0.102431    0.099826\n",
       "1    1986-03-19    0.100694    0.102431    0.099826    0.098090\n",
       "2    1986-03-20    0.102431    0.099826    0.098090    0.095486\n",
       "3    1986-03-21    0.099826    0.098090    0.095486    0.092882\n",
       "4    1986-03-24    0.098090    0.095486    0.092882    0.090278\n",
       "...         ...         ...         ...         ...         ...\n",
       "9716 2024-10-07  417.130005  416.540009  416.059998  409.540009\n",
       "9717 2024-10-08  416.540009  416.059998  409.540009  414.709991\n",
       "9718 2024-10-09  416.059998  409.540009  414.709991  417.459991\n",
       "9719 2024-10-10  409.540009  414.709991  417.459991  415.839996\n",
       "9720 2024-10-11  414.709991  417.459991  415.839996  416.320007\n",
       "\n",
       "[9721 rows x 5 columns]"
      ]
     },
     "execution_count": 18,
     "metadata": {},
     "output_type": "execute_result"
    }
   ],
   "source": [
    "# Function to create windowed data\n",
    "def window_data(data, n=3):\n",
    "    windowed_data = pd.DataFrame()\n",
    "    \n",
    "    # Create shifted columns for previous 'Close' values\n",
    "    for i in range(n, 0, -1):\n",
    "        windowed_data[f'Close-{i}'] = data['Close'].shift(i)\n",
    "    \n",
    "    # Add the current 'Close' column\n",
    "    windowed_data['Close'] = data['Close']\n",
    "    \n",
    "    # Drop rows with NaN values\n",
    "    return windowed_data.dropna()\n",
    "\n",
    "# Example usage\n",
    "windowed_data = window_data(data).reset_index()\n",
    "windowed_data\n"
   ]
  },
  {
   "cell_type": "code",
   "execution_count": 24,
   "metadata": {},
   "outputs": [],
   "source": [
    "# Function to transform windowed data into dates, X (features), and Y (targets)\n",
    "def windowed_data_to_date_x_y(windowed_data):\n",
    "    # Convert the DataFrame to a NumPy array for easier manipulation\n",
    "    data = windowed_data.to_numpy()\n",
    "    \n",
    "    # Extract the first column (Date) from the NumPy array\n",
    "    dates = data[:, 0]\n",
    "    \n",
    "    # Extract the middle columns (previous 'Close' values) from the NumPy array\n",
    "    middle_matrix = data[:, 1:-1]\n",
    "    \n",
    "    # Reshape the middle matrix to a 3D array suitable for machine learning models\n",
    "    # (number of samples, number of time steps, number of features)\n",
    "    x = middle_matrix.reshape((len(dates), middle_matrix.shape[1], 1)).astype(np.float32)\n",
    "    \n",
    "    # Extract the second column (current 'Close' value) from the NumPy array as the target variable\n",
    "    y = data[:, 1].astype(np.float32)\n",
    "    \n",
    "    # Return the dates, features (X), and target (Y)\n",
    "    return dates, x, y\n"
   ]
  },
  {
   "cell_type": "code",
   "execution_count": 25,
   "metadata": {},
   "outputs": [
    {
     "data": {
      "text/plain": [
       "((9721,), (9721, 3, 1), (9721,))"
      ]
     },
     "execution_count": 25,
     "metadata": {},
     "output_type": "execute_result"
    }
   ],
   "source": [
    "dates, x, y = windowed_data_to_date_x_y(windowed_data)\n",
    "\n",
    "# Check shapes\n",
    "dates.shape, x.shape, y.shape"
   ]
  },
  {
   "cell_type": "markdown",
   "metadata": {},
   "source": [
    "(9721, 3, 1) => We're looking at 3 things in the past for only 1 type of variable"
   ]
  },
  {
   "cell_type": "code",
   "execution_count": 30,
   "metadata": {},
   "outputs": [
    {
     "data": {
      "text/plain": [
       "<matplotlib.legend.Legend at 0x16a2acae9d0>"
      ]
     },
     "execution_count": 30,
     "metadata": {},
     "output_type": "execute_result"
    },
    {
     "data": {
      "image/png": "[encoded data removed]",
      "text/plain": [
       "<Figure size 640x480 with 1 Axes>"
      ]
     },
     "metadata": {},
     "output_type": "display_data"
    }
   ],
   "source": [
    "# Define the percentage split indices for training and validation/test sets\n",
    "q_80 = int(len(dates) * 0.8)  # 80% mark\n",
    "q_90 = int(len(dates) * 0.9)  # 90% mark\n",
    "\n",
    "# Split the data into training set (first 80%)\n",
    "dates_trn, x_trn, y_trn = dates[:q_80], x[:q_80], y[:q_80]\n",
    "\n",
    "# Split the data into validation set (next 10%)\n",
    "dates_val, x_val, y_val = dates[q_80:q_90], x[q_80:q_90], y[q_80:q_90]\n",
    "\n",
    "# Split the data into test set (last 10%)\n",
    "dates_tst, x_tst, y_tst = dates[q_90:], x[q_90:], y[q_90:]\n",
    "\n",
    "# Plot the training data\n",
    "plt.plot(dates_trn, y_trn)\n",
    "\n",
    "# Plot the validation data\n",
    "plt.plot(dates_val, y_val)\n",
    "\n",
    "# Plot the test data\n",
    "plt.plot(dates_tst, y_tst)\n",
    "\n",
    "# Add a legend to indicate which line is which set\n",
    "plt.legend(['Train', 'Validation', 'Test'])\n"
   ]
  }
 ],
 "metadata": {
  "kernelspec": {
   "display_name": "lstm",
   "language": "python",
   "name": "python3"
  },
  "language_info": {
   "codemirror_mode": {
    "name": "ipython",
    "version": 3
   },
   "file_extension": ".py",
   "mimetype": "text/x-python",
   "name": "python",
   "nbconvert_exporter": "python",
   "pygments_lexer": "ipython3",
   "version": "3.9.18"
  }
 },
 "nbformat": 4,
 "nbformat_minor": 2
}
