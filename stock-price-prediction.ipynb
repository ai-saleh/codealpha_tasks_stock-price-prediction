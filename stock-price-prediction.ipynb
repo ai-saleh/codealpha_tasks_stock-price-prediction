{
 "cells": [
  {
   "cell_type": "code",
   "execution_count": 23,
   "metadata": {},
   "outputs": [],
   "source": [
    "# dataset @ https://finance.yahoo.com/quote/MSFT/history/"
   ]
  },
  {
   "cell_type": "code",
   "execution_count": 24,
   "metadata": {},
   "outputs": [],
   "source": [
    "# Import libraries\n",
    "import yfinance as yf\n",
    "import pandas as pd\n",
    "import matplotlib.pyplot as plt"
   ]
  },
  {
   "cell_type": "code",
   "execution_count": 25,
   "metadata": {},
   "outputs": [
    {
     "name": "stderr",
     "output_type": "stream",
     "text": [
      "[*********************100%***********************]  1 of 1 completed\n"
     ]
    },
    {
     "data": {
      "text/html": [
       "<div>\n",
       "<style scoped>\n",
       "    .dataframe tbody tr th:only-of-type {\n",
       "        vertical-align: middle;\n",
       "    }\n",
       "\n",
       "    .dataframe tbody tr th {\n",
       "        vertical-align: top;\n",
       "    }\n",
       "\n",
       "    .dataframe thead th {\n",
       "        text-align: right;\n",
       "    }\n",
       "</style>\n",
       "<table border=\"1\" class=\"dataframe\">\n",
       "  <thead>\n",
       "    <tr style=\"text-align: right;\">\n",
       "      <th></th>\n",
       "      <th>Open</th>\n",
       "      <th>High</th>\n",
       "      <th>Low</th>\n",
       "      <th>Close</th>\n",
       "      <th>Adj Close</th>\n",
       "      <th>Volume</th>\n",
       "    </tr>\n",
       "    <tr>\n",
       "      <th>Date</th>\n",
       "      <th></th>\n",
       "      <th></th>\n",
       "      <th></th>\n",
       "      <th></th>\n",
       "      <th></th>\n",
       "      <th></th>\n",
       "    </tr>\n",
       "  </thead>\n",
       "  <tbody>\n",
       "    <tr>\n",
       "      <th>2024-10-07</th>\n",
       "      <td>416.000000</td>\n",
       "      <td>417.109985</td>\n",
       "      <td>409.000000</td>\n",
       "      <td>409.540009</td>\n",
       "      <td>409.540009</td>\n",
       "      <td>20919800</td>\n",
       "    </tr>\n",
       "    <tr>\n",
       "      <th>2024-10-08</th>\n",
       "      <td>410.899994</td>\n",
       "      <td>415.660004</td>\n",
       "      <td>408.170013</td>\n",
       "      <td>414.709991</td>\n",
       "      <td>414.709991</td>\n",
       "      <td>19229300</td>\n",
       "    </tr>\n",
       "    <tr>\n",
       "      <th>2024-10-09</th>\n",
       "      <td>415.859985</td>\n",
       "      <td>420.380005</td>\n",
       "      <td>414.299988</td>\n",
       "      <td>417.459991</td>\n",
       "      <td>417.459991</td>\n",
       "      <td>14974300</td>\n",
       "    </tr>\n",
       "    <tr>\n",
       "      <th>2024-10-10</th>\n",
       "      <td>415.230011</td>\n",
       "      <td>417.350006</td>\n",
       "      <td>413.149994</td>\n",
       "      <td>415.839996</td>\n",
       "      <td>415.839996</td>\n",
       "      <td>13848400</td>\n",
       "    </tr>\n",
       "    <tr>\n",
       "      <th>2024-10-11</th>\n",
       "      <td>416.140015</td>\n",
       "      <td>417.130005</td>\n",
       "      <td>413.250000</td>\n",
       "      <td>416.320007</td>\n",
       "      <td>416.320007</td>\n",
       "      <td>14126600</td>\n",
       "    </tr>\n",
       "  </tbody>\n",
       "</table>\n",
       "</div>"
      ],
      "text/plain": [
       "                  Open        High         Low       Close   Adj Close  \\\n",
       "Date                                                                     \n",
       "2024-10-07  416.000000  417.109985  409.000000  409.540009  409.540009   \n",
       "2024-10-08  410.899994  415.660004  408.170013  414.709991  414.709991   \n",
       "2024-10-09  415.859985  420.380005  414.299988  417.459991  417.459991   \n",
       "2024-10-10  415.230011  417.350006  413.149994  415.839996  415.839996   \n",
       "2024-10-11  416.140015  417.130005  413.250000  416.320007  416.320007   \n",
       "\n",
       "              Volume  \n",
       "Date                  \n",
       "2024-10-07  20919800  \n",
       "2024-10-08  19229300  \n",
       "2024-10-09  14974300  \n",
       "2024-10-10  13848400  \n",
       "2024-10-11  14126600  "
      ]
     },
     "execution_count": 25,
     "metadata": {},
     "output_type": "execute_result"
    }
   ],
   "source": [
    "# Define the ticker symbol for Microsoft\n",
    "ticker_symbol = 'MSFT'\n",
    "\n",
    "# Define the historical date range for data retrieval\n",
    "start_date = '1986-03-13'\n",
    "end_date = '2024-10-14'\n",
    "\n",
    "# Fetch the historical stock data from Yahoo Finance\n",
    "data = yf.download(ticker_symbol, start=start_date, end=end_date)\n",
    "\n",
    "# Reset the DataFrame index and store the original index as a new column\n",
    "# data = data.reset_index()\n",
    "\n",
    "# Display the last few rows of the DataFrame\n",
    "data.tail()\n"
   ]
  },
  {
   "cell_type": "code",
   "execution_count": 26,
   "metadata": {},
   "outputs": [
    {
     "data": {
      "text/plain": [
       "True"
      ]
     },
     "execution_count": 26,
     "metadata": {},
     "output_type": "execute_result"
    }
   ],
   "source": [
    "# Check if the index column 'Date' is in datetime64\n",
    "data.index.inferred_type == \"datetime64\""
   ]
  },
  {
   "cell_type": "code",
   "execution_count": 27,
   "metadata": {},
   "outputs": [
    {
     "data": {
      "text/html": [
       "<div>\n",
       "<style scoped>\n",
       "    .dataframe tbody tr th:only-of-type {\n",
       "        vertical-align: middle;\n",
       "    }\n",
       "\n",
       "    .dataframe tbody tr th {\n",
       "        vertical-align: top;\n",
       "    }\n",
       "\n",
       "    .dataframe thead th {\n",
       "        text-align: right;\n",
       "    }\n",
       "</style>\n",
       "<table border=\"1\" class=\"dataframe\">\n",
       "  <thead>\n",
       "    <tr style=\"text-align: right;\">\n",
       "      <th></th>\n",
       "      <th>Close</th>\n",
       "    </tr>\n",
       "    <tr>\n",
       "      <th>Date</th>\n",
       "      <th></th>\n",
       "    </tr>\n",
       "  </thead>\n",
       "  <tbody>\n",
       "    <tr>\n",
       "      <th>1986-03-13</th>\n",
       "      <td>0.097222</td>\n",
       "    </tr>\n",
       "    <tr>\n",
       "      <th>1986-03-14</th>\n",
       "      <td>0.100694</td>\n",
       "    </tr>\n",
       "    <tr>\n",
       "      <th>1986-03-17</th>\n",
       "      <td>0.102431</td>\n",
       "    </tr>\n",
       "    <tr>\n",
       "      <th>1986-03-18</th>\n",
       "      <td>0.099826</td>\n",
       "    </tr>\n",
       "    <tr>\n",
       "      <th>1986-03-19</th>\n",
       "      <td>0.098090</td>\n",
       "    </tr>\n",
       "  </tbody>\n",
       "</table>\n",
       "</div>"
      ],
      "text/plain": [
       "               Close\n",
       "Date                \n",
       "1986-03-13  0.097222\n",
       "1986-03-14  0.100694\n",
       "1986-03-17  0.102431\n",
       "1986-03-18  0.099826\n",
       "1986-03-19  0.098090"
      ]
     },
     "execution_count": 27,
     "metadata": {},
     "output_type": "execute_result"
    }
   ],
   "source": [
    "# Select only the index 'Date' and 'Close' columns from the DataFrame\n",
    "data = data[['Close']]\n",
    "\n",
    "# Display the first few rows of the simplified DataFrame\n",
    "data.head()\n"
   ]
  },
  {
   "cell_type": "code",
   "execution_count": 29,
   "metadata": {},
   "outputs": [
    {
     "data": {
      "text/plain": [
       "[<matplotlib.lines.Line2D at 0x211cf9ab970>]"
      ]
     },
     "execution_count": 29,
     "metadata": {},
     "output_type": "execute_result"
    },
    {
     "data": {
      "image/png": "[encoded data removed]",
      "text/plain": [
       "<Figure size 640x480 with 1 Axes>"
      ]
     },
     "metadata": {},
     "output_type": "display_data"
    }
   ],
   "source": [
    "# Plot the data\n",
    "plt.plot(data.index, data['Close'])"
   ]
  }
 ],
 "metadata": {
  "kernelspec": {
   "display_name": "lstm",
   "language": "python",
   "name": "python3"
  },
  "language_info": {
   "codemirror_mode": {
    "name": "ipython",
    "version": 3
   },
   "file_extension": ".py",
   "mimetype": "text/x-python",
   "name": "python",
   "nbconvert_exporter": "python",
   "pygments_lexer": "ipython3",
   "version": "3.9.18"
  }
 },
 "nbformat": 4,
 "nbformat_minor": 2
}
